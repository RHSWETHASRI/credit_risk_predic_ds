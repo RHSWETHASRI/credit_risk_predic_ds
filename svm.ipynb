{
 "cells": [
  {
   "cell_type": "markdown",
   "id": "533ddc8a",
   "metadata": {},
   "source": [
    "IMPORTING LIBRARY"
   ]
  },
  {
   "cell_type": "code",
   "execution_count": 103,
   "id": "5bbafa83",
   "metadata": {},
   "outputs": [],
   "source": [
    "import numpy as np\n",
    "import pandas as pd\n",
    "from sklearn.preprocessing import LabelEncoder\n",
    "import warnings\n",
    "warnings.filterwarnings('ignore')"
   ]
  },
  {
   "cell_type": "code",
   "execution_count": 104,
   "id": "12bfcb18",
   "metadata": {},
   "outputs": [],
   "source": [
    "import matplotlib.pyplot as plt\n",
    "%matplotlib inline\n",
    "import seaborn as sns"
   ]
  },
  {
   "cell_type": "markdown",
   "id": "34f1df4f",
   "metadata": {},
   "source": [
    "READ THE DATA SET"
   ]
  },
  {
   "cell_type": "code",
   "execution_count": 105,
   "id": "1c063cfa",
   "metadata": {},
   "outputs": [],
   "source": [
    "df=pd.read_csv('loan2.csv')"
   ]
  },
  {
   "cell_type": "code",
   "execution_count": 106,
   "id": "37c32267",
   "metadata": {},
   "outputs": [],
   "source": [
    "subset=df.loc[:,'loan_amnt':'cb_person_default_on_file']"
   ]
  },
  {
   "cell_type": "code",
   "execution_count": 107,
   "id": "a541e5d7",
   "metadata": {},
   "outputs": [],
   "source": [
    "df1=subset"
   ]
  },
  {
   "cell_type": "code",
   "execution_count": 125,
   "id": "aff9582b",
   "metadata": {},
   "outputs": [
    {
     "data": {
      "text/html": [
       "<div>\n",
       "<style scoped>\n",
       "    .dataframe tbody tr th:only-of-type {\n",
       "        vertical-align: middle;\n",
       "    }\n",
       "\n",
       "    .dataframe tbody tr th {\n",
       "        vertical-align: top;\n",
       "    }\n",
       "\n",
       "    .dataframe thead th {\n",
       "        text-align: right;\n",
       "    }\n",
       "</style>\n",
       "<table border=\"1\" class=\"dataframe\">\n",
       "  <thead>\n",
       "    <tr style=\"text-align: right;\">\n",
       "      <th></th>\n",
       "      <th>loan_amnt</th>\n",
       "      <th>loan_int_rate</th>\n",
       "      <th>loan_status</th>\n",
       "      <th>loan_percent_income</th>\n",
       "      <th>cb_person_cred_hist_length</th>\n",
       "      <th>person_income</th>\n",
       "      <th>person_emp_length</th>\n",
       "      <th>cb_person_default_on_file</th>\n",
       "    </tr>\n",
       "  </thead>\n",
       "  <tbody>\n",
       "    <tr>\n",
       "      <th>0</th>\n",
       "      <td>35000</td>\n",
       "      <td>16.02</td>\n",
       "      <td>1</td>\n",
       "      <td>0.59</td>\n",
       "      <td>3</td>\n",
       "      <td>59000</td>\n",
       "      <td>123</td>\n",
       "      <td>Y</td>\n",
       "    </tr>\n",
       "    <tr>\n",
       "      <th>1</th>\n",
       "      <td>1000</td>\n",
       "      <td>11.14</td>\n",
       "      <td>0</td>\n",
       "      <td>0.10</td>\n",
       "      <td>2</td>\n",
       "      <td>9600</td>\n",
       "      <td>5</td>\n",
       "      <td>N</td>\n",
       "    </tr>\n",
       "    <tr>\n",
       "      <th>2</th>\n",
       "      <td>5500</td>\n",
       "      <td>12.87</td>\n",
       "      <td>1</td>\n",
       "      <td>0.57</td>\n",
       "      <td>3</td>\n",
       "      <td>9600</td>\n",
       "      <td>1</td>\n",
       "      <td>N</td>\n",
       "    </tr>\n",
       "    <tr>\n",
       "      <th>3</th>\n",
       "      <td>35000</td>\n",
       "      <td>15.23</td>\n",
       "      <td>1</td>\n",
       "      <td>0.53</td>\n",
       "      <td>2</td>\n",
       "      <td>65500</td>\n",
       "      <td>4</td>\n",
       "      <td>N</td>\n",
       "    </tr>\n",
       "    <tr>\n",
       "      <th>4</th>\n",
       "      <td>35000</td>\n",
       "      <td>14.27</td>\n",
       "      <td>1</td>\n",
       "      <td>0.55</td>\n",
       "      <td>4</td>\n",
       "      <td>54400</td>\n",
       "      <td>8</td>\n",
       "      <td>Y</td>\n",
       "    </tr>\n",
       "    <tr>\n",
       "      <th>...</th>\n",
       "      <td>...</td>\n",
       "      <td>...</td>\n",
       "      <td>...</td>\n",
       "      <td>...</td>\n",
       "      <td>...</td>\n",
       "      <td>...</td>\n",
       "      <td>...</td>\n",
       "      <td>...</td>\n",
       "    </tr>\n",
       "    <tr>\n",
       "      <th>32576</th>\n",
       "      <td>5800</td>\n",
       "      <td>13.16</td>\n",
       "      <td>0</td>\n",
       "      <td>0.11</td>\n",
       "      <td>30</td>\n",
       "      <td>53000</td>\n",
       "      <td>1</td>\n",
       "      <td>N</td>\n",
       "    </tr>\n",
       "    <tr>\n",
       "      <th>32577</th>\n",
       "      <td>17625</td>\n",
       "      <td>7.49</td>\n",
       "      <td>0</td>\n",
       "      <td>0.15</td>\n",
       "      <td>19</td>\n",
       "      <td>120000</td>\n",
       "      <td>4</td>\n",
       "      <td>N</td>\n",
       "    </tr>\n",
       "    <tr>\n",
       "      <th>32578</th>\n",
       "      <td>35000</td>\n",
       "      <td>10.99</td>\n",
       "      <td>1</td>\n",
       "      <td>0.46</td>\n",
       "      <td>28</td>\n",
       "      <td>76000</td>\n",
       "      <td>3</td>\n",
       "      <td>N</td>\n",
       "    </tr>\n",
       "    <tr>\n",
       "      <th>32579</th>\n",
       "      <td>15000</td>\n",
       "      <td>11.48</td>\n",
       "      <td>0</td>\n",
       "      <td>0.10</td>\n",
       "      <td>26</td>\n",
       "      <td>150000</td>\n",
       "      <td>5</td>\n",
       "      <td>N</td>\n",
       "    </tr>\n",
       "    <tr>\n",
       "      <th>32580</th>\n",
       "      <td>6475</td>\n",
       "      <td>9.99</td>\n",
       "      <td>0</td>\n",
       "      <td>0.15</td>\n",
       "      <td>30</td>\n",
       "      <td>42000</td>\n",
       "      <td>2</td>\n",
       "      <td>N</td>\n",
       "    </tr>\n",
       "  </tbody>\n",
       "</table>\n",
       "<p>32581 rows × 8 columns</p>\n",
       "</div>"
      ],
      "text/plain": [
       "       loan_amnt  loan_int_rate  loan_status  loan_percent_income  \\\n",
       "0          35000          16.02            1                 0.59   \n",
       "1           1000          11.14            0                 0.10   \n",
       "2           5500          12.87            1                 0.57   \n",
       "3          35000          15.23            1                 0.53   \n",
       "4          35000          14.27            1                 0.55   \n",
       "...          ...            ...          ...                  ...   \n",
       "32576       5800          13.16            0                 0.11   \n",
       "32577      17625           7.49            0                 0.15   \n",
       "32578      35000          10.99            1                 0.46   \n",
       "32579      15000          11.48            0                 0.10   \n",
       "32580       6475           9.99            0                 0.15   \n",
       "\n",
       "       cb_person_cred_hist_length  person_income  person_emp_length  \\\n",
       "0                               3          59000                123   \n",
       "1                               2           9600                  5   \n",
       "2                               3           9600                  1   \n",
       "3                               2          65500                  4   \n",
       "4                               4          54400                  8   \n",
       "...                           ...            ...                ...   \n",
       "32576                          30          53000                  1   \n",
       "32577                          19         120000                  4   \n",
       "32578                          28          76000                  3   \n",
       "32579                          26         150000                  5   \n",
       "32580                          30          42000                  2   \n",
       "\n",
       "      cb_person_default_on_file  \n",
       "0                             Y  \n",
       "1                             N  \n",
       "2                             N  \n",
       "3                             N  \n",
       "4                             Y  \n",
       "...                         ...  \n",
       "32576                         N  \n",
       "32577                         N  \n",
       "32578                         N  \n",
       "32579                         N  \n",
       "32580                         N  \n",
       "\n",
       "[32581 rows x 8 columns]"
      ]
     },
     "execution_count": 125,
     "metadata": {},
     "output_type": "execute_result"
    }
   ],
   "source": [
    "df1"
   ]
  },
  {
   "cell_type": "markdown",
   "id": "f57da65f",
   "metadata": {},
   "source": [
    "SPLITTING X AND Y "
   ]
  },
  {
   "cell_type": "code",
   "execution_count": 108,
   "id": "140000af",
   "metadata": {},
   "outputs": [],
   "source": [
    "x=df1.iloc[:,:7]"
   ]
  },
  {
   "cell_type": "code",
   "execution_count": 109,
   "id": "26adf361",
   "metadata": {},
   "outputs": [
    {
     "data": {
      "text/html": [
       "<div>\n",
       "<style scoped>\n",
       "    .dataframe tbody tr th:only-of-type {\n",
       "        vertical-align: middle;\n",
       "    }\n",
       "\n",
       "    .dataframe tbody tr th {\n",
       "        vertical-align: top;\n",
       "    }\n",
       "\n",
       "    .dataframe thead th {\n",
       "        text-align: right;\n",
       "    }\n",
       "</style>\n",
       "<table border=\"1\" class=\"dataframe\">\n",
       "  <thead>\n",
       "    <tr style=\"text-align: right;\">\n",
       "      <th></th>\n",
       "      <th>loan_amnt</th>\n",
       "      <th>loan_int_rate</th>\n",
       "      <th>loan_status</th>\n",
       "      <th>loan_percent_income</th>\n",
       "      <th>cb_person_cred_hist_length</th>\n",
       "      <th>person_income</th>\n",
       "      <th>person_emp_length</th>\n",
       "    </tr>\n",
       "  </thead>\n",
       "  <tbody>\n",
       "    <tr>\n",
       "      <th>0</th>\n",
       "      <td>35000</td>\n",
       "      <td>16.02</td>\n",
       "      <td>1</td>\n",
       "      <td>0.59</td>\n",
       "      <td>3</td>\n",
       "      <td>59000</td>\n",
       "      <td>123</td>\n",
       "    </tr>\n",
       "    <tr>\n",
       "      <th>1</th>\n",
       "      <td>1000</td>\n",
       "      <td>11.14</td>\n",
       "      <td>0</td>\n",
       "      <td>0.10</td>\n",
       "      <td>2</td>\n",
       "      <td>9600</td>\n",
       "      <td>5</td>\n",
       "    </tr>\n",
       "    <tr>\n",
       "      <th>2</th>\n",
       "      <td>5500</td>\n",
       "      <td>12.87</td>\n",
       "      <td>1</td>\n",
       "      <td>0.57</td>\n",
       "      <td>3</td>\n",
       "      <td>9600</td>\n",
       "      <td>1</td>\n",
       "    </tr>\n",
       "    <tr>\n",
       "      <th>3</th>\n",
       "      <td>35000</td>\n",
       "      <td>15.23</td>\n",
       "      <td>1</td>\n",
       "      <td>0.53</td>\n",
       "      <td>2</td>\n",
       "      <td>65500</td>\n",
       "      <td>4</td>\n",
       "    </tr>\n",
       "    <tr>\n",
       "      <th>4</th>\n",
       "      <td>35000</td>\n",
       "      <td>14.27</td>\n",
       "      <td>1</td>\n",
       "      <td>0.55</td>\n",
       "      <td>4</td>\n",
       "      <td>54400</td>\n",
       "      <td>8</td>\n",
       "    </tr>\n",
       "    <tr>\n",
       "      <th>...</th>\n",
       "      <td>...</td>\n",
       "      <td>...</td>\n",
       "      <td>...</td>\n",
       "      <td>...</td>\n",
       "      <td>...</td>\n",
       "      <td>...</td>\n",
       "      <td>...</td>\n",
       "    </tr>\n",
       "    <tr>\n",
       "      <th>32576</th>\n",
       "      <td>5800</td>\n",
       "      <td>13.16</td>\n",
       "      <td>0</td>\n",
       "      <td>0.11</td>\n",
       "      <td>30</td>\n",
       "      <td>53000</td>\n",
       "      <td>1</td>\n",
       "    </tr>\n",
       "    <tr>\n",
       "      <th>32577</th>\n",
       "      <td>17625</td>\n",
       "      <td>7.49</td>\n",
       "      <td>0</td>\n",
       "      <td>0.15</td>\n",
       "      <td>19</td>\n",
       "      <td>120000</td>\n",
       "      <td>4</td>\n",
       "    </tr>\n",
       "    <tr>\n",
       "      <th>32578</th>\n",
       "      <td>35000</td>\n",
       "      <td>10.99</td>\n",
       "      <td>1</td>\n",
       "      <td>0.46</td>\n",
       "      <td>28</td>\n",
       "      <td>76000</td>\n",
       "      <td>3</td>\n",
       "    </tr>\n",
       "    <tr>\n",
       "      <th>32579</th>\n",
       "      <td>15000</td>\n",
       "      <td>11.48</td>\n",
       "      <td>0</td>\n",
       "      <td>0.10</td>\n",
       "      <td>26</td>\n",
       "      <td>150000</td>\n",
       "      <td>5</td>\n",
       "    </tr>\n",
       "    <tr>\n",
       "      <th>32580</th>\n",
       "      <td>6475</td>\n",
       "      <td>9.99</td>\n",
       "      <td>0</td>\n",
       "      <td>0.15</td>\n",
       "      <td>30</td>\n",
       "      <td>42000</td>\n",
       "      <td>2</td>\n",
       "    </tr>\n",
       "  </tbody>\n",
       "</table>\n",
       "<p>32581 rows × 7 columns</p>\n",
       "</div>"
      ],
      "text/plain": [
       "       loan_amnt  loan_int_rate  loan_status  loan_percent_income  \\\n",
       "0          35000          16.02            1                 0.59   \n",
       "1           1000          11.14            0                 0.10   \n",
       "2           5500          12.87            1                 0.57   \n",
       "3          35000          15.23            1                 0.53   \n",
       "4          35000          14.27            1                 0.55   \n",
       "...          ...            ...          ...                  ...   \n",
       "32576       5800          13.16            0                 0.11   \n",
       "32577      17625           7.49            0                 0.15   \n",
       "32578      35000          10.99            1                 0.46   \n",
       "32579      15000          11.48            0                 0.10   \n",
       "32580       6475           9.99            0                 0.15   \n",
       "\n",
       "       cb_person_cred_hist_length  person_income  person_emp_length  \n",
       "0                               3          59000                123  \n",
       "1                               2           9600                  5  \n",
       "2                               3           9600                  1  \n",
       "3                               2          65500                  4  \n",
       "4                               4          54400                  8  \n",
       "...                           ...            ...                ...  \n",
       "32576                          30          53000                  1  \n",
       "32577                          19         120000                  4  \n",
       "32578                          28          76000                  3  \n",
       "32579                          26         150000                  5  \n",
       "32580                          30          42000                  2  \n",
       "\n",
       "[32581 rows x 7 columns]"
      ]
     },
     "execution_count": 109,
     "metadata": {},
     "output_type": "execute_result"
    }
   ],
   "source": [
    "x\n"
   ]
  },
  {
   "cell_type": "code",
   "execution_count": 110,
   "id": "778dc262",
   "metadata": {},
   "outputs": [],
   "source": [
    "y=df1.iloc[:,7:].values"
   ]
  },
  {
   "cell_type": "markdown",
   "id": "531e5fff",
   "metadata": {},
   "source": [
    "SPLITING TRAINING AND TEST DATA"
   ]
  },
  {
   "cell_type": "code",
   "execution_count": 111,
   "id": "7822cac6",
   "metadata": {},
   "outputs": [],
   "source": [
    "from sklearn.model_selection import train_test_split"
   ]
  },
  {
   "cell_type": "code",
   "execution_count": 112,
   "id": "b06565c3",
   "metadata": {},
   "outputs": [],
   "source": [
    "x_train,x_test,y_train,y_test=train_test_split(x,y.ravel(),test_size=0.2,random_state=0)"
   ]
  },
  {
   "cell_type": "code",
   "execution_count": 113,
   "id": "b42d587d",
   "metadata": {},
   "outputs": [],
   "source": [
    "from sklearn.preprocessing import StandardScaler"
   ]
  },
  {
   "cell_type": "code",
   "execution_count": 114,
   "id": "e5f6f13b",
   "metadata": {},
   "outputs": [],
   "source": [
    "st=StandardScaler()"
   ]
  },
  {
   "cell_type": "code",
   "execution_count": 115,
   "id": "b64b7eeb",
   "metadata": {},
   "outputs": [],
   "source": [
    "x_train=st.fit_transform(x_train)"
   ]
  },
  {
   "cell_type": "code",
   "execution_count": 116,
   "id": "fee4bef3",
   "metadata": {},
   "outputs": [],
   "source": [
    "x_test=st.fit_transform(x_test)"
   ]
  },
  {
   "cell_type": "code",
   "execution_count": 117,
   "id": "58e87aed",
   "metadata": {},
   "outputs": [
    {
     "data": {
      "text/plain": [
       "array([[-0.72801377,  0.17310984, -0.53321711, ..., -0.93998538,\n",
       "        -0.55188661, -0.16208507],\n",
       "       [-1.3299034 ,  0.708681  , -0.53321711, ..., -0.69242535,\n",
       "        -0.18720293,  0.7925156 ],\n",
       "       [ 0.06394628,  0.61495605,  1.87540868, ...,  1.04049491,\n",
       "        -0.56708176, -0.63938541],\n",
       "       ...,\n",
       "       [-0.09444573,  0.1998884 , -0.53321711, ..., -0.93998538,\n",
       "        -0.4227278 , -0.87803558],\n",
       "       [ 0.06394628, -2.21687647, -0.53321711, ..., -0.93998538,\n",
       "        -0.36954477, -0.16208507],\n",
       "       [ 0.21441869, -0.59007906, -0.53321711, ..., -0.93998538,\n",
       "        -0.49110599,  0.55386543]])"
      ]
     },
     "execution_count": 117,
     "metadata": {},
     "output_type": "execute_result"
    }
   ],
   "source": [
    "x_train\n"
   ]
  },
  {
   "cell_type": "code",
   "execution_count": 118,
   "id": "a6b66c32",
   "metadata": {},
   "outputs": [],
   "source": [
    "import matplotlib.pyplot as plt\n",
    "from sklearn import linear_model"
   ]
  },
  {
   "cell_type": "markdown",
   "id": "d498883f",
   "metadata": {},
   "source": [
    "IMPLEMENTATION USING SVM ALGORITHM"
   ]
  },
  {
   "cell_type": "code",
   "execution_count": 119,
   "id": "71fb3bf9",
   "metadata": {},
   "outputs": [],
   "source": [
    "from sklearn.svm import SVC"
   ]
  },
  {
   "cell_type": "code",
   "execution_count": 120,
   "id": "7358f9be",
   "metadata": {},
   "outputs": [],
   "source": [
    "classifier = SVC(kernel='linear', random_state = 1)\n",
    "fit_reg=classifier.fit(x_train,y_train)"
   ]
  },
  {
   "cell_type": "code",
   "execution_count": 29,
   "id": "35dbed4a",
   "metadata": {},
   "outputs": [
    {
     "name": "stdout",
     "output_type": "stream",
     "text": [
      "Vector of Weights (w) =  [ 4.21709940e-05  1.75215373e-05 -1.85068784e-05 -3.53242121e-05\n",
      " -5.98935588e-06  3.97528309e-06  4.30413746e-06]\n",
      "b = -0.9999897826371081\n",
      "Indices of Support Vectors =  [    3    15    18 ... 26052 26056 26060]\n",
      "Support vectors =  [[ 2.43982641  2.52962295  1.87540868 ...  0.05025476  0.14465922\n",
      "   0.0765651 ]\n",
      " [ 1.33108235  0.90282555 -0.53321711 ... -0.93998538  0.22306621\n",
      "   0.55386543]\n",
      " [ 4.02374651 -2.21687647 -0.53321711 ... -0.69242535  0.96762872\n",
      "   1.03116577]\n",
      " ...\n",
      " [-0.50626496 -2.21687647 -0.53321711 ...  1.04049491 -0.24798354\n",
      "   2.70171695]\n",
      " [-1.2031898   1.26879917 -0.53321711 ...  2.03073506 -0.36954477\n",
      "  -0.63938541]\n",
      " [-0.88640578  0.82025833 -0.53321711 ... -0.19730527 -0.47591084\n",
      "   1.50846611]]\n",
      "Number of support vectors for each class =  [4938 4629]\n",
      "Coefficients of the support vector in the decision function =  [[1. 1. 1. ... 1. 1. 1.]]\n"
     ]
    }
   ],
   "source": [
    "import numpy as np\n",
    "print('Vector of Weights (w) = ',classifier.coef_[0])\n",
    "print('b =',classifier.intercept_[0])\n",
    "print('Indices of Support Vectors = ',classifier.support_)\n",
    "print('Support vectors = ', classifier.support_vectors_)\n",
    "print('Number of support vectors for each class = ', classifier.n_support_)\n",
    "print('Coefficients of the support vector in the decision function = ', np.abs(classifier.dual_coef_))"
   ]
  },
  {
   "cell_type": "code",
   "execution_count": 121,
   "id": "2bfb12d2",
   "metadata": {},
   "outputs": [
    {
     "data": {
      "text/plain": [
       "array(['N', 'N', 'N', ..., 'N', 'N', 'N'], dtype=object)"
      ]
     },
     "execution_count": 121,
     "metadata": {},
     "output_type": "execute_result"
    }
   ],
   "source": [
    "Y_pred = classifier.predict(x_test)\n",
    "Y_pred"
   ]
  },
  {
   "cell_type": "code",
   "execution_count": 31,
   "id": "9925af6f",
   "metadata": {},
   "outputs": [
    {
     "name": "stdout",
     "output_type": "stream",
     "text": [
      "[0 1 0 ... 0 0 0]\n",
      "[0 0 0 ... 0 0 0]\n"
     ]
    }
   ],
   "source": [
    "from sklearn.preprocessing import LabelEncoder\n",
    "le = LabelEncoder()\n",
    "y_train = le.fit_transform(y_train)\n",
    "y_test = le.fit_transform(y_test)\n",
    "print(y_train)\n",
    "print(y_test)"
   ]
  },
  {
   "cell_type": "code",
   "execution_count": 33,
   "id": "e1b6abe2",
   "metadata": {},
   "outputs": [
    {
     "data": {
      "text/plain": [
       "SVC(kernel='linear', random_state=1)"
      ]
     },
     "execution_count": 33,
     "metadata": {},
     "output_type": "execute_result"
    }
   ],
   "source": [
    "from sklearn.svm import SVC\n",
    "classifier = SVC(kernel='linear', random_state = 1)\n",
    "classifier.fit(x_train,y_train)"
   ]
  },
  {
   "cell_type": "code",
   "execution_count": 86,
   "id": "91db0f71",
   "metadata": {},
   "outputs": [
    {
     "data": {
      "image/png": "[encoded data removed]",
      "text/plain": [
       "<Figure size 432x288 with 1 Axes>"
      ]
     },
     "metadata": {
      "needs_background": "light"
     },
     "output_type": "display_data"
    }
   ],
   "source": [
    "plt.scatter(x_train[:,0],x_train[:,1],c=y_train,cmap='winter')\n",
    "plt.xlabel('x')\n",
    "plt.ylabel('y')\n",
    "\n",
    "plt.plot(range(0, 20))\n",
    "\n",
    "\n",
    "scale_factor = 0.01\n",
    "\n",
    "plt.xlim( [ 0, 4 ] )         \n",
    "plt.ylim( [ 0, 4] )\n",
    "w = classifier.coef_[0]\n",
    "slope = -w[0]/w[1]\n",
    "b = classifier.intercept_[0]\n",
    "xx = np.linspace(xlim[0],xlim[1])\n",
    "yy = slope * xx - (b/w[1])\n",
    "\n",
    "#plot the margins\n",
    "s = classifier.support_vectors_[0] # first support vector\n",
    "yy_down = slope * xx +s[1] - slope * s[0]\n",
    "s = classifier.support_vectors_[-1] #---last support vector---\n",
    "yy_up = slope * xx + (s[1] - slope * s[0])\n",
    "\n",
    "# plot the points\n",
    "ax.scatter(x_test[:,0],x_test[:,1],c=y_test,cmap='winter',marker='s')\n",
    "\n",
    "# Plot the hyperplane\n",
    "plt.plot(xx,yy,linewidth=2,color='green')\n",
    "\n",
    "#---plot the 2 margins---\n",
    "plt.plot(xx, yy_down, 'k--')\n",
    "plt.plot(xx, yy_up, 'k--')\n",
    "plt.show()\n"
   ]
  },
  {
   "cell_type": "markdown",
   "id": "5157b55b",
   "metadata": {},
   "source": [
    "TO FIND THE ACCURACY OF THE ALGORITHM"
   ]
  },
  {
   "cell_type": "code",
   "execution_count": 123,
   "id": "6da8a914",
   "metadata": {},
   "outputs": [
    {
     "name": "stdout",
     "output_type": "stream",
     "text": [
      "\n",
      "Accuracy Of SVM For The Given Dataset :  0.8287555623753261\n"
     ]
    }
   ],
   "source": [
    "from sklearn.metrics import confusion_matrix\n",
    "cm = confusion_matrix(y_test,Y_pred)\n",
    "\n",
    "accuracy = float(cm.diagonal().sum())/len(y_test)\n",
    "print(\"\\nAccuracy Of SVM For The Given Dataset : \", accuracy)"
   ]
  },
  {
   "cell_type": "markdown",
   "id": "95e8dc5b",
   "metadata": {},
   "source": [
    "TO PRINT THE CONFUSION MATRIX"
   ]
  },
  {
   "cell_type": "code",
   "execution_count": 124,
   "id": "3c907ca0",
   "metadata": {},
   "outputs": [
    {
     "data": {
      "text/plain": [
       "array([[5401,    0],\n",
       "       [1116,    0]], dtype=int64)"
      ]
     },
     "execution_count": 124,
     "metadata": {},
     "output_type": "execute_result"
    }
   ],
   "source": [
    "cm"
   ]
  }
 ],
 "metadata": {
  "kernelspec": {
   "display_name": "Python 3 (ipykernel)",
   "language": "python",
   "name": "python3"
  },
  "language_info": {
   "codemirror_mode": {
    "name": "ipython",
    "version": 3
   },
   "file_extension": ".py",
   "mimetype": "text/x-python",
   "name": "python",
   "nbconvert_exporter": "python",
   "pygments_lexer": "ipython3",
   "version": "3.9.7"
  }
 },
 "nbformat": 4,
 "nbformat_minor": 5
}
