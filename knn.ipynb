{
 "cells": [
  {
   "cell_type": "markdown",
   "id": "829ad383",
   "metadata": {},
   "source": [
    "IMPORTING LIBRARY"
   ]
  },
  {
   "cell_type": "code",
   "execution_count": 2,
   "id": "43de841d",
   "metadata": {},
   "outputs": [],
   "source": [
    "import numpy as np\n",
    "import pandas as pd\n",
    "from sklearn.preprocessing import LabelEncoder\n",
    "import warnings\n",
    "warnings.filterwarnings('ignore')"
   ]
  },
  {
   "cell_type": "code",
   "execution_count": 3,
   "id": "9df076a4",
   "metadata": {},
   "outputs": [],
   "source": [
    "import matplotlib.pyplot as plt\n",
    "%matplotlib inline\n",
    "import seaborn as sns"
   ]
  },
  {
   "cell_type": "markdown",
   "id": "72f77d2b",
   "metadata": {},
   "source": [
    "READING THE DATA SET"
   ]
  },
  {
   "cell_type": "code",
   "execution_count": 4,
   "id": "c9ce0295",
   "metadata": {},
   "outputs": [],
   "source": [
    "df=pd.read_csv('loan2.csv')"
   ]
  },
  {
   "cell_type": "markdown",
   "id": "c12f91e6",
   "metadata": {},
   "source": [
    "DISPLAYING TOP 5 RECORDS"
   ]
  },
  {
   "cell_type": "code",
   "execution_count": 5,
   "id": "92a538af",
   "metadata": {},
   "outputs": [
    {
     "data": {
      "text/html": [
       "<div>\n",
       "<style scoped>\n",
       "    .dataframe tbody tr th:only-of-type {\n",
       "        vertical-align: middle;\n",
       "    }\n",
       "\n",
       "    .dataframe tbody tr th {\n",
       "        vertical-align: top;\n",
       "    }\n",
       "\n",
       "    .dataframe thead th {\n",
       "        text-align: right;\n",
       "    }\n",
       "</style>\n",
       "<table border=\"1\" class=\"dataframe\">\n",
       "  <thead>\n",
       "    <tr style=\"text-align: right;\">\n",
       "      <th></th>\n",
       "      <th>person_home_ownership</th>\n",
       "      <th>loan_intent</th>\n",
       "      <th>loan_grade</th>\n",
       "      <th>person_age</th>\n",
       "      <th>loan_amnt</th>\n",
       "      <th>loan_int_rate</th>\n",
       "      <th>loan_status</th>\n",
       "      <th>loan_percent_income</th>\n",
       "      <th>cb_person_cred_hist_length</th>\n",
       "      <th>person_income</th>\n",
       "      <th>person_emp_length</th>\n",
       "      <th>cb_person_default_on_file</th>\n",
       "    </tr>\n",
       "  </thead>\n",
       "  <tbody>\n",
       "    <tr>\n",
       "      <th>0</th>\n",
       "      <td>RENT</td>\n",
       "      <td>PERSONAL</td>\n",
       "      <td>D</td>\n",
       "      <td>22</td>\n",
       "      <td>35000</td>\n",
       "      <td>16.02</td>\n",
       "      <td>1</td>\n",
       "      <td>0.59</td>\n",
       "      <td>3</td>\n",
       "      <td>59000</td>\n",
       "      <td>123</td>\n",
       "      <td>Y</td>\n",
       "    </tr>\n",
       "    <tr>\n",
       "      <th>1</th>\n",
       "      <td>OWN</td>\n",
       "      <td>EDUCATION</td>\n",
       "      <td>B</td>\n",
       "      <td>21</td>\n",
       "      <td>1000</td>\n",
       "      <td>11.14</td>\n",
       "      <td>0</td>\n",
       "      <td>0.10</td>\n",
       "      <td>2</td>\n",
       "      <td>9600</td>\n",
       "      <td>5</td>\n",
       "      <td>N</td>\n",
       "    </tr>\n",
       "    <tr>\n",
       "      <th>2</th>\n",
       "      <td>MORTGAGE</td>\n",
       "      <td>MEDICAL</td>\n",
       "      <td>C</td>\n",
       "      <td>25</td>\n",
       "      <td>5500</td>\n",
       "      <td>12.87</td>\n",
       "      <td>1</td>\n",
       "      <td>0.57</td>\n",
       "      <td>3</td>\n",
       "      <td>9600</td>\n",
       "      <td>1</td>\n",
       "      <td>N</td>\n",
       "    </tr>\n",
       "    <tr>\n",
       "      <th>3</th>\n",
       "      <td>RENT</td>\n",
       "      <td>MEDICAL</td>\n",
       "      <td>C</td>\n",
       "      <td>23</td>\n",
       "      <td>35000</td>\n",
       "      <td>15.23</td>\n",
       "      <td>1</td>\n",
       "      <td>0.53</td>\n",
       "      <td>2</td>\n",
       "      <td>65500</td>\n",
       "      <td>4</td>\n",
       "      <td>N</td>\n",
       "    </tr>\n",
       "    <tr>\n",
       "      <th>4</th>\n",
       "      <td>RENT</td>\n",
       "      <td>MEDICAL</td>\n",
       "      <td>C</td>\n",
       "      <td>24</td>\n",
       "      <td>35000</td>\n",
       "      <td>14.27</td>\n",
       "      <td>1</td>\n",
       "      <td>0.55</td>\n",
       "      <td>4</td>\n",
       "      <td>54400</td>\n",
       "      <td>8</td>\n",
       "      <td>Y</td>\n",
       "    </tr>\n",
       "  </tbody>\n",
       "</table>\n",
       "</div>"
      ],
      "text/plain": [
       "  person_home_ownership loan_intent loan_grade  person_age  loan_amnt  \\\n",
       "0                  RENT    PERSONAL          D          22      35000   \n",
       "1                   OWN   EDUCATION          B          21       1000   \n",
       "2              MORTGAGE     MEDICAL          C          25       5500   \n",
       "3                  RENT     MEDICAL          C          23      35000   \n",
       "4                  RENT     MEDICAL          C          24      35000   \n",
       "\n",
       "   loan_int_rate  loan_status  loan_percent_income  \\\n",
       "0          16.02            1                 0.59   \n",
       "1          11.14            0                 0.10   \n",
       "2          12.87            1                 0.57   \n",
       "3          15.23            1                 0.53   \n",
       "4          14.27            1                 0.55   \n",
       "\n",
       "   cb_person_cred_hist_length  person_income  person_emp_length  \\\n",
       "0                           3          59000                123   \n",
       "1                           2           9600                  5   \n",
       "2                           3           9600                  1   \n",
       "3                           2          65500                  4   \n",
       "4                           4          54400                  8   \n",
       "\n",
       "  cb_person_default_on_file  \n",
       "0                         Y  \n",
       "1                         N  \n",
       "2                         N  \n",
       "3                         N  \n",
       "4                         Y  "
      ]
     },
     "execution_count": 5,
     "metadata": {},
     "output_type": "execute_result"
    }
   ],
   "source": [
    "df.head()"
   ]
  },
  {
   "cell_type": "markdown",
   "id": "980495bc",
   "metadata": {},
   "source": [
    "DESCRIBING THE COLUMNS IN DATA SET"
   ]
  },
  {
   "cell_type": "code",
   "execution_count": 6,
   "id": "bd0d0ea8",
   "metadata": {},
   "outputs": [
    {
     "name": "stdout",
     "output_type": "stream",
     "text": [
      "<class 'pandas.core.frame.DataFrame'>\n",
      "RangeIndex: 32581 entries, 0 to 32580\n",
      "Data columns (total 12 columns):\n",
      " #   Column                      Non-Null Count  Dtype  \n",
      "---  ------                      --------------  -----  \n",
      " 0   person_home_ownership       32581 non-null  object \n",
      " 1   loan_intent                 32581 non-null  object \n",
      " 2   loan_grade                  32581 non-null  object \n",
      " 3   person_age                  32581 non-null  int64  \n",
      " 4   loan_amnt                   32581 non-null  int64  \n",
      " 5   loan_int_rate               32581 non-null  float64\n",
      " 6   loan_status                 32581 non-null  int64  \n",
      " 7   loan_percent_income         32581 non-null  float64\n",
      " 8   cb_person_cred_hist_length  32581 non-null  int64  \n",
      " 9   person_income               32581 non-null  int64  \n",
      " 10  person_emp_length           32581 non-null  int64  \n",
      " 11  cb_person_default_on_file   32581 non-null  object \n",
      "dtypes: float64(2), int64(6), object(4)\n",
      "memory usage: 3.0+ MB\n"
     ]
    }
   ],
   "source": [
    "df.info()"
   ]
  },
  {
   "cell_type": "code",
   "execution_count": 7,
   "id": "d9003504",
   "metadata": {},
   "outputs": [],
   "source": [
    "subset=df.loc[:,'loan_amnt':'cb_person_default_on_file']"
   ]
  },
  {
   "cell_type": "code",
   "execution_count": 8,
   "id": "95d401a8",
   "metadata": {},
   "outputs": [],
   "source": [
    "df1=subset"
   ]
  },
  {
   "cell_type": "code",
   "execution_count": 9,
   "id": "8f3fa73f",
   "metadata": {},
   "outputs": [
    {
     "data": {
      "text/html": [
       "<div>\n",
       "<style scoped>\n",
       "    .dataframe tbody tr th:only-of-type {\n",
       "        vertical-align: middle;\n",
       "    }\n",
       "\n",
       "    .dataframe tbody tr th {\n",
       "        vertical-align: top;\n",
       "    }\n",
       "\n",
       "    .dataframe thead th {\n",
       "        text-align: right;\n",
       "    }\n",
       "</style>\n",
       "<table border=\"1\" class=\"dataframe\">\n",
       "  <thead>\n",
       "    <tr style=\"text-align: right;\">\n",
       "      <th></th>\n",
       "      <th>loan_amnt</th>\n",
       "      <th>loan_int_rate</th>\n",
       "      <th>loan_status</th>\n",
       "      <th>loan_percent_income</th>\n",
       "      <th>cb_person_cred_hist_length</th>\n",
       "      <th>person_income</th>\n",
       "      <th>person_emp_length</th>\n",
       "      <th>cb_person_default_on_file</th>\n",
       "    </tr>\n",
       "  </thead>\n",
       "  <tbody>\n",
       "    <tr>\n",
       "      <th>0</th>\n",
       "      <td>35000</td>\n",
       "      <td>16.02</td>\n",
       "      <td>1</td>\n",
       "      <td>0.59</td>\n",
       "      <td>3</td>\n",
       "      <td>59000</td>\n",
       "      <td>123</td>\n",
       "      <td>Y</td>\n",
       "    </tr>\n",
       "    <tr>\n",
       "      <th>1</th>\n",
       "      <td>1000</td>\n",
       "      <td>11.14</td>\n",
       "      <td>0</td>\n",
       "      <td>0.10</td>\n",
       "      <td>2</td>\n",
       "      <td>9600</td>\n",
       "      <td>5</td>\n",
       "      <td>N</td>\n",
       "    </tr>\n",
       "    <tr>\n",
       "      <th>2</th>\n",
       "      <td>5500</td>\n",
       "      <td>12.87</td>\n",
       "      <td>1</td>\n",
       "      <td>0.57</td>\n",
       "      <td>3</td>\n",
       "      <td>9600</td>\n",
       "      <td>1</td>\n",
       "      <td>N</td>\n",
       "    </tr>\n",
       "    <tr>\n",
       "      <th>3</th>\n",
       "      <td>35000</td>\n",
       "      <td>15.23</td>\n",
       "      <td>1</td>\n",
       "      <td>0.53</td>\n",
       "      <td>2</td>\n",
       "      <td>65500</td>\n",
       "      <td>4</td>\n",
       "      <td>N</td>\n",
       "    </tr>\n",
       "    <tr>\n",
       "      <th>4</th>\n",
       "      <td>35000</td>\n",
       "      <td>14.27</td>\n",
       "      <td>1</td>\n",
       "      <td>0.55</td>\n",
       "      <td>4</td>\n",
       "      <td>54400</td>\n",
       "      <td>8</td>\n",
       "      <td>Y</td>\n",
       "    </tr>\n",
       "    <tr>\n",
       "      <th>...</th>\n",
       "      <td>...</td>\n",
       "      <td>...</td>\n",
       "      <td>...</td>\n",
       "      <td>...</td>\n",
       "      <td>...</td>\n",
       "      <td>...</td>\n",
       "      <td>...</td>\n",
       "      <td>...</td>\n",
       "    </tr>\n",
       "    <tr>\n",
       "      <th>32576</th>\n",
       "      <td>5800</td>\n",
       "      <td>13.16</td>\n",
       "      <td>0</td>\n",
       "      <td>0.11</td>\n",
       "      <td>30</td>\n",
       "      <td>53000</td>\n",
       "      <td>1</td>\n",
       "      <td>N</td>\n",
       "    </tr>\n",
       "    <tr>\n",
       "      <th>32577</th>\n",
       "      <td>17625</td>\n",
       "      <td>7.49</td>\n",
       "      <td>0</td>\n",
       "      <td>0.15</td>\n",
       "      <td>19</td>\n",
       "      <td>120000</td>\n",
       "      <td>4</td>\n",
       "      <td>N</td>\n",
       "    </tr>\n",
       "    <tr>\n",
       "      <th>32578</th>\n",
       "      <td>35000</td>\n",
       "      <td>10.99</td>\n",
       "      <td>1</td>\n",
       "      <td>0.46</td>\n",
       "      <td>28</td>\n",
       "      <td>76000</td>\n",
       "      <td>3</td>\n",
       "      <td>N</td>\n",
       "    </tr>\n",
       "    <tr>\n",
       "      <th>32579</th>\n",
       "      <td>15000</td>\n",
       "      <td>11.48</td>\n",
       "      <td>0</td>\n",
       "      <td>0.10</td>\n",
       "      <td>26</td>\n",
       "      <td>150000</td>\n",
       "      <td>5</td>\n",
       "      <td>N</td>\n",
       "    </tr>\n",
       "    <tr>\n",
       "      <th>32580</th>\n",
       "      <td>6475</td>\n",
       "      <td>9.99</td>\n",
       "      <td>0</td>\n",
       "      <td>0.15</td>\n",
       "      <td>30</td>\n",
       "      <td>42000</td>\n",
       "      <td>2</td>\n",
       "      <td>N</td>\n",
       "    </tr>\n",
       "  </tbody>\n",
       "</table>\n",
       "<p>32581 rows × 8 columns</p>\n",
       "</div>"
      ],
      "text/plain": [
       "       loan_amnt  loan_int_rate  loan_status  loan_percent_income  \\\n",
       "0          35000          16.02            1                 0.59   \n",
       "1           1000          11.14            0                 0.10   \n",
       "2           5500          12.87            1                 0.57   \n",
       "3          35000          15.23            1                 0.53   \n",
       "4          35000          14.27            1                 0.55   \n",
       "...          ...            ...          ...                  ...   \n",
       "32576       5800          13.16            0                 0.11   \n",
       "32577      17625           7.49            0                 0.15   \n",
       "32578      35000          10.99            1                 0.46   \n",
       "32579      15000          11.48            0                 0.10   \n",
       "32580       6475           9.99            0                 0.15   \n",
       "\n",
       "       cb_person_cred_hist_length  person_income  person_emp_length  \\\n",
       "0                               3          59000                123   \n",
       "1                               2           9600                  5   \n",
       "2                               3           9600                  1   \n",
       "3                               2          65500                  4   \n",
       "4                               4          54400                  8   \n",
       "...                           ...            ...                ...   \n",
       "32576                          30          53000                  1   \n",
       "32577                          19         120000                  4   \n",
       "32578                          28          76000                  3   \n",
       "32579                          26         150000                  5   \n",
       "32580                          30          42000                  2   \n",
       "\n",
       "      cb_person_default_on_file  \n",
       "0                             Y  \n",
       "1                             N  \n",
       "2                             N  \n",
       "3                             N  \n",
       "4                             Y  \n",
       "...                         ...  \n",
       "32576                         N  \n",
       "32577                         N  \n",
       "32578                         N  \n",
       "32579                         N  \n",
       "32580                         N  \n",
       "\n",
       "[32581 rows x 8 columns]"
      ]
     },
     "execution_count": 9,
     "metadata": {},
     "output_type": "execute_result"
    }
   ],
   "source": [
    "df1"
   ]
  },
  {
   "cell_type": "markdown",
   "id": "9a80cb2e",
   "metadata": {},
   "source": [
    "SPLITING DATA SETS AS X AND Y(TARGET)"
   ]
  },
  {
   "cell_type": "code",
   "execution_count": 10,
   "id": "ca42c220",
   "metadata": {},
   "outputs": [],
   "source": [
    "x=df1.iloc[:,:7]"
   ]
  },
  {
   "cell_type": "code",
   "execution_count": 11,
   "id": "9e23a395",
   "metadata": {},
   "outputs": [
    {
     "data": {
      "text/html": [
       "<div>\n",
       "<style scoped>\n",
       "    .dataframe tbody tr th:only-of-type {\n",
       "        vertical-align: middle;\n",
       "    }\n",
       "\n",
       "    .dataframe tbody tr th {\n",
       "        vertical-align: top;\n",
       "    }\n",
       "\n",
       "    .dataframe thead th {\n",
       "        text-align: right;\n",
       "    }\n",
       "</style>\n",
       "<table border=\"1\" class=\"dataframe\">\n",
       "  <thead>\n",
       "    <tr style=\"text-align: right;\">\n",
       "      <th></th>\n",
       "      <th>loan_amnt</th>\n",
       "      <th>loan_int_rate</th>\n",
       "      <th>loan_status</th>\n",
       "      <th>loan_percent_income</th>\n",
       "      <th>cb_person_cred_hist_length</th>\n",
       "      <th>person_income</th>\n",
       "      <th>person_emp_length</th>\n",
       "    </tr>\n",
       "  </thead>\n",
       "  <tbody>\n",
       "    <tr>\n",
       "      <th>0</th>\n",
       "      <td>35000</td>\n",
       "      <td>16.02</td>\n",
       "      <td>1</td>\n",
       "      <td>0.59</td>\n",
       "      <td>3</td>\n",
       "      <td>59000</td>\n",
       "      <td>123</td>\n",
       "    </tr>\n",
       "    <tr>\n",
       "      <th>1</th>\n",
       "      <td>1000</td>\n",
       "      <td>11.14</td>\n",
       "      <td>0</td>\n",
       "      <td>0.10</td>\n",
       "      <td>2</td>\n",
       "      <td>9600</td>\n",
       "      <td>5</td>\n",
       "    </tr>\n",
       "    <tr>\n",
       "      <th>2</th>\n",
       "      <td>5500</td>\n",
       "      <td>12.87</td>\n",
       "      <td>1</td>\n",
       "      <td>0.57</td>\n",
       "      <td>3</td>\n",
       "      <td>9600</td>\n",
       "      <td>1</td>\n",
       "    </tr>\n",
       "    <tr>\n",
       "      <th>3</th>\n",
       "      <td>35000</td>\n",
       "      <td>15.23</td>\n",
       "      <td>1</td>\n",
       "      <td>0.53</td>\n",
       "      <td>2</td>\n",
       "      <td>65500</td>\n",
       "      <td>4</td>\n",
       "    </tr>\n",
       "    <tr>\n",
       "      <th>4</th>\n",
       "      <td>35000</td>\n",
       "      <td>14.27</td>\n",
       "      <td>1</td>\n",
       "      <td>0.55</td>\n",
       "      <td>4</td>\n",
       "      <td>54400</td>\n",
       "      <td>8</td>\n",
       "    </tr>\n",
       "    <tr>\n",
       "      <th>...</th>\n",
       "      <td>...</td>\n",
       "      <td>...</td>\n",
       "      <td>...</td>\n",
       "      <td>...</td>\n",
       "      <td>...</td>\n",
       "      <td>...</td>\n",
       "      <td>...</td>\n",
       "    </tr>\n",
       "    <tr>\n",
       "      <th>32576</th>\n",
       "      <td>5800</td>\n",
       "      <td>13.16</td>\n",
       "      <td>0</td>\n",
       "      <td>0.11</td>\n",
       "      <td>30</td>\n",
       "      <td>53000</td>\n",
       "      <td>1</td>\n",
       "    </tr>\n",
       "    <tr>\n",
       "      <th>32577</th>\n",
       "      <td>17625</td>\n",
       "      <td>7.49</td>\n",
       "      <td>0</td>\n",
       "      <td>0.15</td>\n",
       "      <td>19</td>\n",
       "      <td>120000</td>\n",
       "      <td>4</td>\n",
       "    </tr>\n",
       "    <tr>\n",
       "      <th>32578</th>\n",
       "      <td>35000</td>\n",
       "      <td>10.99</td>\n",
       "      <td>1</td>\n",
       "      <td>0.46</td>\n",
       "      <td>28</td>\n",
       "      <td>76000</td>\n",
       "      <td>3</td>\n",
       "    </tr>\n",
       "    <tr>\n",
       "      <th>32579</th>\n",
       "      <td>15000</td>\n",
       "      <td>11.48</td>\n",
       "      <td>0</td>\n",
       "      <td>0.10</td>\n",
       "      <td>26</td>\n",
       "      <td>150000</td>\n",
       "      <td>5</td>\n",
       "    </tr>\n",
       "    <tr>\n",
       "      <th>32580</th>\n",
       "      <td>6475</td>\n",
       "      <td>9.99</td>\n",
       "      <td>0</td>\n",
       "      <td>0.15</td>\n",
       "      <td>30</td>\n",
       "      <td>42000</td>\n",
       "      <td>2</td>\n",
       "    </tr>\n",
       "  </tbody>\n",
       "</table>\n",
       "<p>32581 rows × 7 columns</p>\n",
       "</div>"
      ],
      "text/plain": [
       "       loan_amnt  loan_int_rate  loan_status  loan_percent_income  \\\n",
       "0          35000          16.02            1                 0.59   \n",
       "1           1000          11.14            0                 0.10   \n",
       "2           5500          12.87            1                 0.57   \n",
       "3          35000          15.23            1                 0.53   \n",
       "4          35000          14.27            1                 0.55   \n",
       "...          ...            ...          ...                  ...   \n",
       "32576       5800          13.16            0                 0.11   \n",
       "32577      17625           7.49            0                 0.15   \n",
       "32578      35000          10.99            1                 0.46   \n",
       "32579      15000          11.48            0                 0.10   \n",
       "32580       6475           9.99            0                 0.15   \n",
       "\n",
       "       cb_person_cred_hist_length  person_income  person_emp_length  \n",
       "0                               3          59000                123  \n",
       "1                               2           9600                  5  \n",
       "2                               3           9600                  1  \n",
       "3                               2          65500                  4  \n",
       "4                               4          54400                  8  \n",
       "...                           ...            ...                ...  \n",
       "32576                          30          53000                  1  \n",
       "32577                          19         120000                  4  \n",
       "32578                          28          76000                  3  \n",
       "32579                          26         150000                  5  \n",
       "32580                          30          42000                  2  \n",
       "\n",
       "[32581 rows x 7 columns]"
      ]
     },
     "execution_count": 11,
     "metadata": {},
     "output_type": "execute_result"
    }
   ],
   "source": [
    "x\n"
   ]
  },
  {
   "cell_type": "code",
   "execution_count": 12,
   "id": "ad10168f",
   "metadata": {},
   "outputs": [],
   "source": [
    "y=df1.iloc[:,7:].values"
   ]
  },
  {
   "cell_type": "code",
   "execution_count": 13,
   "id": "c9f1db5f",
   "metadata": {},
   "outputs": [
    {
     "data": {
      "text/plain": [
       "array([['Y'],\n",
       "       ['N'],\n",
       "       ['N'],\n",
       "       ...,\n",
       "       ['N'],\n",
       "       ['N'],\n",
       "       ['N']], dtype=object)"
      ]
     },
     "execution_count": 13,
     "metadata": {},
     "output_type": "execute_result"
    }
   ],
   "source": [
    "y"
   ]
  },
  {
   "cell_type": "markdown",
   "id": "5f03725c",
   "metadata": {},
   "source": [
    "SPLITTING DATA AS TRAINING AND TESTING DATA"
   ]
  },
  {
   "cell_type": "code",
   "execution_count": 14,
   "id": "0b6727c1",
   "metadata": {},
   "outputs": [],
   "source": [
    "from sklearn.model_selection import train_test_split\n"
   ]
  },
  {
   "cell_type": "code",
   "execution_count": 15,
   "id": "41a79412",
   "metadata": {},
   "outputs": [],
   "source": [
    "x_train,x_test,y_train,y_test=train_test_split(x,y.ravel(),test_size=0.2,random_state=0)"
   ]
  },
  {
   "cell_type": "code",
   "execution_count": 16,
   "id": "f7164aa5",
   "metadata": {},
   "outputs": [
    {
     "data": {
      "text/html": [
       "<div>\n",
       "<style scoped>\n",
       "    .dataframe tbody tr th:only-of-type {\n",
       "        vertical-align: middle;\n",
       "    }\n",
       "\n",
       "    .dataframe tbody tr th {\n",
       "        vertical-align: top;\n",
       "    }\n",
       "\n",
       "    .dataframe thead th {\n",
       "        text-align: right;\n",
       "    }\n",
       "</style>\n",
       "<table border=\"1\" class=\"dataframe\">\n",
       "  <thead>\n",
       "    <tr style=\"text-align: right;\">\n",
       "      <th></th>\n",
       "      <th>loan_amnt</th>\n",
       "      <th>loan_int_rate</th>\n",
       "      <th>loan_status</th>\n",
       "      <th>loan_percent_income</th>\n",
       "      <th>cb_person_cred_hist_length</th>\n",
       "      <th>person_income</th>\n",
       "      <th>person_emp_length</th>\n",
       "    </tr>\n",
       "  </thead>\n",
       "  <tbody>\n",
       "    <tr>\n",
       "      <th>2162</th>\n",
       "      <td>5000</td>\n",
       "      <td>10.71</td>\n",
       "      <td>0</td>\n",
       "      <td>0.17</td>\n",
       "      <td>2</td>\n",
       "      <td>30000</td>\n",
       "      <td>4</td>\n",
       "    </tr>\n",
       "    <tr>\n",
       "      <th>7670</th>\n",
       "      <td>1200</td>\n",
       "      <td>13.11</td>\n",
       "      <td>0</td>\n",
       "      <td>0.02</td>\n",
       "      <td>3</td>\n",
       "      <td>54000</td>\n",
       "      <td>8</td>\n",
       "    </tr>\n",
       "    <tr>\n",
       "      <th>24007</th>\n",
       "      <td>10000</td>\n",
       "      <td>12.69</td>\n",
       "      <td>1</td>\n",
       "      <td>0.34</td>\n",
       "      <td>10</td>\n",
       "      <td>29000</td>\n",
       "      <td>2</td>\n",
       "    </tr>\n",
       "    <tr>\n",
       "      <th>25230</th>\n",
       "      <td>25000</td>\n",
       "      <td>21.27</td>\n",
       "      <td>1</td>\n",
       "      <td>0.33</td>\n",
       "      <td>6</td>\n",
       "      <td>75840</td>\n",
       "      <td>5</td>\n",
       "    </tr>\n",
       "    <tr>\n",
       "      <th>4897</th>\n",
       "      <td>5000</td>\n",
       "      <td>6.99</td>\n",
       "      <td>0</td>\n",
       "      <td>0.13</td>\n",
       "      <td>2</td>\n",
       "      <td>39000</td>\n",
       "      <td>4</td>\n",
       "    </tr>\n",
       "    <tr>\n",
       "      <th>...</th>\n",
       "      <td>...</td>\n",
       "      <td>...</td>\n",
       "      <td>...</td>\n",
       "      <td>...</td>\n",
       "      <td>...</td>\n",
       "      <td>...</td>\n",
       "      <td>...</td>\n",
       "    </tr>\n",
       "    <tr>\n",
       "      <th>13123</th>\n",
       "      <td>24000</td>\n",
       "      <td>0.00</td>\n",
       "      <td>0</td>\n",
       "      <td>0.27</td>\n",
       "      <td>2</td>\n",
       "      <td>88494</td>\n",
       "      <td>8</td>\n",
       "    </tr>\n",
       "    <tr>\n",
       "      <th>19648</th>\n",
       "      <td>4000</td>\n",
       "      <td>13.61</td>\n",
       "      <td>0</td>\n",
       "      <td>0.11</td>\n",
       "      <td>5</td>\n",
       "      <td>35000</td>\n",
       "      <td>11</td>\n",
       "    </tr>\n",
       "    <tr>\n",
       "      <th>9845</th>\n",
       "      <td>9000</td>\n",
       "      <td>10.83</td>\n",
       "      <td>0</td>\n",
       "      <td>0.23</td>\n",
       "      <td>2</td>\n",
       "      <td>38500</td>\n",
       "      <td>1</td>\n",
       "    </tr>\n",
       "    <tr>\n",
       "      <th>10799</th>\n",
       "      <td>10000</td>\n",
       "      <td>0.00</td>\n",
       "      <td>0</td>\n",
       "      <td>0.24</td>\n",
       "      <td>2</td>\n",
       "      <td>42000</td>\n",
       "      <td>4</td>\n",
       "    </tr>\n",
       "    <tr>\n",
       "      <th>2732</th>\n",
       "      <td>10950</td>\n",
       "      <td>7.29</td>\n",
       "      <td>0</td>\n",
       "      <td>0.32</td>\n",
       "      <td>2</td>\n",
       "      <td>34000</td>\n",
       "      <td>7</td>\n",
       "    </tr>\n",
       "  </tbody>\n",
       "</table>\n",
       "<p>26064 rows × 7 columns</p>\n",
       "</div>"
      ],
      "text/plain": [
       "       loan_amnt  loan_int_rate  loan_status  loan_percent_income  \\\n",
       "2162        5000          10.71            0                 0.17   \n",
       "7670        1200          13.11            0                 0.02   \n",
       "24007      10000          12.69            1                 0.34   \n",
       "25230      25000          21.27            1                 0.33   \n",
       "4897        5000           6.99            0                 0.13   \n",
       "...          ...            ...          ...                  ...   \n",
       "13123      24000           0.00            0                 0.27   \n",
       "19648       4000          13.61            0                 0.11   \n",
       "9845        9000          10.83            0                 0.23   \n",
       "10799      10000           0.00            0                 0.24   \n",
       "2732       10950           7.29            0                 0.32   \n",
       "\n",
       "       cb_person_cred_hist_length  person_income  person_emp_length  \n",
       "2162                            2          30000                  4  \n",
       "7670                            3          54000                  8  \n",
       "24007                          10          29000                  2  \n",
       "25230                           6          75840                  5  \n",
       "4897                            2          39000                  4  \n",
       "...                           ...            ...                ...  \n",
       "13123                           2          88494                  8  \n",
       "19648                           5          35000                 11  \n",
       "9845                            2          38500                  1  \n",
       "10799                           2          42000                  4  \n",
       "2732                            2          34000                  7  \n",
       "\n",
       "[26064 rows x 7 columns]"
      ]
     },
     "execution_count": 16,
     "metadata": {},
     "output_type": "execute_result"
    }
   ],
   "source": [
    "\n",
    "x_train"
   ]
  },
  {
   "cell_type": "code",
   "execution_count": 17,
   "id": "73814368",
   "metadata": {},
   "outputs": [],
   "source": [
    "from sklearn.preprocessing import StandardScaler"
   ]
  },
  {
   "cell_type": "code",
   "execution_count": 18,
   "id": "9a504891",
   "metadata": {},
   "outputs": [],
   "source": [
    "st=StandardScaler()"
   ]
  },
  {
   "cell_type": "code",
   "execution_count": 19,
   "id": "0968092f",
   "metadata": {},
   "outputs": [],
   "source": [
    "x_train=st.fit_transform(x_train)"
   ]
  },
  {
   "cell_type": "code",
   "execution_count": 20,
   "id": "228240f0",
   "metadata": {},
   "outputs": [],
   "source": [
    "x_test=st.fit_transform(x_test)"
   ]
  },
  {
   "cell_type": "code",
   "execution_count": 21,
   "id": "15c4af0d",
   "metadata": {},
   "outputs": [
    {
     "data": {
      "text/plain": [
       "array([[-0.72801377,  0.17310984, -0.53321711, ..., -0.93998538,\n",
       "        -0.55188661, -0.16208507],\n",
       "       [-1.3299034 ,  0.708681  , -0.53321711, ..., -0.69242535,\n",
       "        -0.18720293,  0.7925156 ],\n",
       "       [ 0.06394628,  0.61495605,  1.87540868, ...,  1.04049491,\n",
       "        -0.56708176, -0.63938541],\n",
       "       ...,\n",
       "       [-0.09444573,  0.1998884 , -0.53321711, ..., -0.93998538,\n",
       "        -0.4227278 , -0.87803558],\n",
       "       [ 0.06394628, -2.21687647, -0.53321711, ..., -0.93998538,\n",
       "        -0.36954477, -0.16208507],\n",
       "       [ 0.21441869, -0.59007906, -0.53321711, ..., -0.93998538,\n",
       "        -0.49110599,  0.55386543]])"
      ]
     },
     "execution_count": 21,
     "metadata": {},
     "output_type": "execute_result"
    }
   ],
   "source": [
    "x_train\n"
   ]
  },
  {
   "cell_type": "code",
   "execution_count": 22,
   "id": "4f96d693",
   "metadata": {},
   "outputs": [
    {
     "data": {
      "text/plain": [
       "array(['N', 'Y', 'N', ..., 'N', 'N', 'N'], dtype=object)"
      ]
     },
     "execution_count": 22,
     "metadata": {},
     "output_type": "execute_result"
    }
   ],
   "source": [
    "y_train"
   ]
  },
  {
   "cell_type": "markdown",
   "id": "4f7c08c9",
   "metadata": {},
   "source": [
    "K NEAREST NEIGHBOR CLASSIFIER ALGORITHM IMPLEMENTATION"
   ]
  },
  {
   "cell_type": "code",
   "execution_count": 23,
   "id": "7b20b5a8",
   "metadata": {},
   "outputs": [],
   "source": [
    "from sklearn.neighbors import KNeighborsClassifier\n",
    "import numpy as np\n"
   ]
  },
  {
   "cell_type": "markdown",
   "id": "fd33047a",
   "metadata": {},
   "source": [
    "CALCULATING ERROR FOR K VALUE BETWEEN 1 AND 40"
   ]
  },
  {
   "cell_type": "code",
   "execution_count": 24,
   "id": "0ce2e44c",
   "metadata": {},
   "outputs": [],
   "source": [
    "error=[]\n",
    "for i in range(1,40):\n",
    "  knn=KNeighborsClassifier(n_neighbors=i)\n",
    "  knn.fit(x_train,y_train)\n",
    "  pred_i=knn.predict(x_test)\n",
    "  error.append(np.mean(pred_i!=y_test))\n",
    "\n",
    "\n"
   ]
  },
  {
   "cell_type": "code",
   "execution_count": 25,
   "id": "0f391fb6",
   "metadata": {},
   "outputs": [],
   "source": [
    "import matplotlib.pyplot as plt"
   ]
  },
  {
   "cell_type": "markdown",
   "id": "b82e2143",
   "metadata": {},
   "source": [
    "PLOTTING THE GRAPH FOR MEAN ERROR AND CORRESPONDING K VALUE"
   ]
  },
  {
   "cell_type": "code",
   "execution_count": 27,
   "id": "e37c7677",
   "metadata": {},
   "outputs": [
    {
     "name": "stdout",
     "output_type": "stream",
     "text": [
      "Minimum error  0.16464630965168023 at k=  14\n"
     ]
    },
    {
     "data": {
      "image/png": "[encoded data removed]",
      "text/plain": [
       "<Figure size 432x288 with 1 Axes>"
      ]
     },
     "metadata": {
      "needs_background": "light"
     },
     "output_type": "display_data"
    }
   ],
   "source": [
    "plt.plot(range(1,40),error,color='red',linestyle='dashed',marker='o',markerfacecolor='green')\n",
    "plt.xlabel('K Value')\n",
    "plt.ylabel('Mean Error')\n",
    "print(\"Minimum error \",min(error),\"at k= \",error.index(min(error))+1)"
   ]
  },
  {
   "cell_type": "code",
   "execution_count": 28,
   "id": "be8cb19c",
   "metadata": {},
   "outputs": [
    {
     "data": {
      "text/plain": [
       "[0.2050023016725487,\n",
       " 0.1776891207610864,\n",
       " 0.1833665797145926,\n",
       " 0.17569433788553016,\n",
       " 0.17937701396348013,\n",
       " 0.17032376860518644,\n",
       " 0.17155132729783643,\n",
       " 0.1701703237686052,\n",
       " 0.1671014270369802,\n",
       " 0.16894276507595518,\n",
       " 0.17032376860518644,\n",
       " 0.16679453736381772,\n",
       " 0.16817554089304895,\n",
       " 0.16464630965168023,\n",
       " 0.1674083167101427,\n",
       " 0.1661807580174927,\n",
       " 0.16786865121988645,\n",
       " 0.16694798220039897,\n",
       " 0.1680220960564677,\n",
       " 0.1680220960564677,\n",
       " 0.16725487187356144,\n",
       " 0.16878932023937396,\n",
       " 0.16679453736381772,\n",
       " 0.16633420285407396,\n",
       " 0.16694798220039897,\n",
       " 0.1661807580174927,\n",
       " 0.1674083167101427,\n",
       " 0.16756176154672395,\n",
       " 0.16894276507595518,\n",
       " 0.1677152063833052,\n",
       " 0.1680220960564677,\n",
       " 0.1683289857296302,\n",
       " 0.1701703237686052,\n",
       " 0.16878932023937396,\n",
       " 0.17109099278809267,\n",
       " 0.1698634340954427,\n",
       " 0.16970998925886144,\n",
       " 0.16909620991253643,\n",
       " 0.17032376860518644]"
      ]
     },
     "execution_count": 28,
     "metadata": {},
     "output_type": "execute_result"
    }
   ],
   "source": [
    "error"
   ]
  },
  {
   "cell_type": "code",
   "execution_count": 29,
   "id": "aac77ed4",
   "metadata": {},
   "outputs": [],
   "source": [
    "classifier=KNeighborsClassifier(n_neighbors=14)"
   ]
  },
  {
   "cell_type": "code",
   "execution_count": 30,
   "id": "eeda1159",
   "metadata": {},
   "outputs": [
    {
     "data": {
      "text/plain": [
       "KNeighborsClassifier(n_neighbors=14)"
      ]
     },
     "execution_count": 30,
     "metadata": {},
     "output_type": "execute_result"
    }
   ],
   "source": [
    "classifier.fit(x_train,y_train)"
   ]
  },
  {
   "cell_type": "markdown",
   "id": "f6914b33",
   "metadata": {},
   "source": [
    "PREDICTING THE VALUE Y FOR TESTING DATA SET"
   ]
  },
  {
   "cell_type": "code",
   "execution_count": 31,
   "id": "fa4c2961",
   "metadata": {},
   "outputs": [],
   "source": [
    "y_pred=classifier.predict(x_test)"
   ]
  },
  {
   "cell_type": "code",
   "execution_count": 32,
   "id": "dd786c37",
   "metadata": {},
   "outputs": [
    {
     "data": {
      "text/plain": [
       "array(['N', 'N', 'N', ..., 'N', 'N', 'N'], dtype=object)"
      ]
     },
     "execution_count": 32,
     "metadata": {},
     "output_type": "execute_result"
    }
   ],
   "source": [
    "y_pred\n"
   ]
  },
  {
   "cell_type": "markdown",
   "id": "af1a66c0",
   "metadata": {},
   "source": [
    "DISPLAYING CONFUSION MATRIX"
   ]
  },
  {
   "cell_type": "code",
   "execution_count": 33,
   "id": "097d0273",
   "metadata": {},
   "outputs": [],
   "source": [
    "from sklearn.metrics import confusion_matrix"
   ]
  },
  {
   "cell_type": "code",
   "execution_count": 34,
   "id": "74bcfe5d",
   "metadata": {},
   "outputs": [
    {
     "data": {
      "text/plain": [
       "array([[5158,  243],\n",
       "       [ 830,  286]], dtype=int64)"
      ]
     },
     "execution_count": 34,
     "metadata": {},
     "output_type": "execute_result"
    }
   ],
   "source": [
    "confusion_matrix(y_test,y_pred)\n"
   ]
  },
  {
   "cell_type": "code",
   "execution_count": 35,
   "id": "1cca6c18",
   "metadata": {},
   "outputs": [],
   "source": [
    "from sklearn import metrics"
   ]
  },
  {
   "cell_type": "markdown",
   "id": "3a65277e",
   "metadata": {},
   "source": [
    "FINDIG THE ACCURACY FOR THE KNN ALGORITHM"
   ]
  },
  {
   "cell_type": "code",
   "execution_count": 38,
   "id": "3d1f273b",
   "metadata": {},
   "outputs": [
    {
     "name": "stdout",
     "output_type": "stream",
     "text": [
      "\n",
      "Accuracy Of KNNF For The Given Dataset :  0.8353536903483197\n"
     ]
    }
   ],
   "source": [
    "print(\"\\nAccuracy Of KNNF For The Given Dataset : \",metrics.accuracy_score(y_test,y_pred))"
   ]
  },
  {
   "cell_type": "code",
   "execution_count": null,
   "id": "848dcf21",
   "metadata": {},
   "outputs": [],
   "source": []
  }
 ],
 "metadata": {
  "kernelspec": {
   "display_name": "Python 3 (ipykernel)",
   "language": "python",
   "name": "python3"
  },
  "language_info": {
   "codemirror_mode": {
    "name": "ipython",
    "version": 3
   },
   "file_extension": ".py",
   "mimetype": "text/x-python",
   "name": "python",
   "nbconvert_exporter": "python",
   "pygments_lexer": "ipython3",
   "version": "3.9.7"
  }
 },
 "nbformat": 4,
 "nbformat_minor": 5
}
